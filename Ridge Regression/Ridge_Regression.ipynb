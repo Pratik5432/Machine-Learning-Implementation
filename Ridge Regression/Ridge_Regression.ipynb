{
  "nbformat": 4,
  "nbformat_minor": 0,
  "metadata": {
    "colab": {
      "provenance": []
    },
    "kernelspec": {
      "name": "python3",
      "display_name": "Python 3"
    },
    "language_info": {
      "name": "python"
    }
  },
  "cells": [
    {
      "cell_type": "markdown",
      "source": [
        "### Import the dataset"
      ],
      "metadata": {
        "id": "2tGQzkHeiOIV"
      }
    },
    {
      "cell_type": "code",
      "execution_count": 1,
      "metadata": {
        "id": "ZDkH6jfSfEdX"
      },
      "outputs": [],
      "source": [
        "from sklearn.datasets import make_regression"
      ]
    },
    {
      "cell_type": "code",
      "source": [
        "x, y = make_regression(n_samples=100, n_features=5, noise=1, random_state=42)"
      ],
      "metadata": {
        "id": "jtdixCp3fRok"
      },
      "execution_count": 2,
      "outputs": []
    },
    {
      "cell_type": "markdown",
      "source": [
        "### Visualize independent & dependent variables"
      ],
      "metadata": {
        "id": "DONPBKUriRSD"
      }
    },
    {
      "cell_type": "code",
      "source": [
        "x"
      ],
      "metadata": {
        "colab": {
          "base_uri": "https://localhost:8080/"
        },
        "id": "jtqbvi0xfhOb",
        "outputId": "df20f932-455d-4949-b456-d52dfe2f2ddc"
      },
      "execution_count": 5,
      "outputs": [
        {
          "output_type": "execute_result",
          "data": {
            "text/plain": [
              "array([[ 0.97511973, -0.67716171, -0.01224677, -0.89725437,  0.07580456],\n",
              "       [ 0.08187414, -0.48536355,  0.75896922, -0.77282521, -0.23681861],\n",
              "       [-1.4123037 , -0.90802408, -0.56228753, -1.01283112,  0.31424733],\n",
              "       [-0.64511975,  0.36163603,  1.35624003, -0.07201012,  1.0035329 ],\n",
              "       [-0.62269952,  0.28099187, -1.9520878 , -0.1517851 ,  0.58831721],\n",
              "       [-0.45006547,  0.04698059, -1.59442766, -0.59937502,  0.0052437 ],\n",
              "       [ 0.77463405,  0.44381943, -0.48423407,  1.26691115, -0.70766947],\n",
              "       [ 0.35701549,  0.8496021 , -0.20812225, -0.49300093, -0.58936476],\n",
              "       [-1.3044695 , -0.08912004,  0.38406545, -0.03269475, -2.0674421 ],\n",
              "       [ 0.17318093, -1.24573878, -0.44651495,  0.85639879,  0.21409374],\n",
              "       [ 0.29698467,  0.52194157,  0.78182287, -1.23695071, -1.32045661],\n",
              "       [-1.72491783, -1.91328024, -0.46341769, -0.46572975,  0.24196227],\n",
              "       [-1.98756891,  0.09176078,  0.8219025 ,  0.08704707, -0.29900735],\n",
              "       [-0.0555477 , -1.70338244,  0.07409478,  1.62861555, -1.38010146],\n",
              "       [ 0.65655361, -1.1913035 , -0.71435142,  1.86577451,  0.47383292],\n",
              "       [-0.01901621, -0.15993853,  0.31090757,  1.47535622,  0.85765962],\n",
              "       [-0.39210815, -0.32766215,  0.09707755,  0.96864499, -0.70205309],\n",
              "       [ 0.19686124, -1.32818605, -1.22084365,  0.2088636 , -1.95967012],\n",
              "       [-1.23086432,  0.81351722,  1.54993441, -0.78325329, -0.32206152],\n",
              "       [ 1.50235705,  0.71754226, -1.18325851, -2.03923218, -0.26940683],\n",
              "       [ 1.52312408, -0.8612842 , -0.00797264,  1.47994414,  0.07736831],\n",
              "       [ 0.96337613, -0.82068232, -0.97468167,  0.7870846 ,  1.15859558],\n",
              "       [-1.20029641,  0.86575519, -0.79252074, -0.11473644,  0.50498728],\n",
              "       [-0.57690366,  0.95042384,  0.15039379,  0.34175598,  1.87617084],\n",
              "       [-1.00601738,  2.09238728,  0.09699596,  0.59515703, -0.81822068],\n",
              "       [ 3.85273149,  0.51504769, -0.93782504,  0.51503527,  0.51378595],\n",
              "       [-0.3853136 ,  0.06980208,  0.46210347,  0.1990597 , -0.60021688],\n",
              "       [-0.07444592,  0.25755039,  0.40405086,  1.8861859 ,  0.17457781],\n",
              "       [-1.38279973, -0.87561825,  0.53891004, -1.03724615, -0.19033868],\n",
              "       [ 2.15318246,  0.95927083,  0.02451017,  0.49799829,  1.45114361],\n",
              "       [-0.47193187, -1.61271587,  2.31465857, -1.86726519,  0.68626019],\n",
              "       [-0.13014305,  0.32416635,  0.02100384,  0.68195297, -0.31026676],\n",
              "       [ 1.23781631, -0.11453985, -0.46917565, -1.71313453,  1.35387237],\n",
              "       [ 1.64496771,  1.36687427, -0.2750517 , -2.30192116, -1.51519106],\n",
              "       [ 0.06751848,  1.17929718, -0.74848654,  1.55115198,  0.11567463],\n",
              "       [ 0.85243333, -0.66178646,  0.63391902, -2.02514259,  0.18645431],\n",
              "       [ 0.75193303,  1.14282281,  0.30154734, -0.03471177, -1.16867804],\n",
              "       [-0.8084936 , -0.51827022, -0.21967189,  0.35711257,  1.47789404],\n",
              "       [ 0.40498171,  1.76545424, -0.33450124, -0.47494531, -0.65332923],\n",
              "       [-0.75373616, -0.24538812,  0.41278093,  0.82206016,  1.89679298],\n",
              "       [-0.91942423,  0.47359243, -1.55066343,  0.06856297, -1.06230371],\n",
              "       [ 0.51326743, -0.5297602 , -0.50175704,  0.91540212,  0.32875111],\n",
              "       [ 0.82254491, -1.05771093, -0.60170661,  1.85227818, -0.01349722],\n",
              "       [ 0.54256004, -0.46947439, -0.23413696,  1.57921282,  0.76743473],\n",
              "       [ 1.11957491,  3.07888081, -0.24903604,  0.57655696,  0.31125015],\n",
              "       [ 1.17944012,  1.83145877, -0.89841467,  0.49191917, -1.32023321],\n",
              "       [ 0.64537595,  0.97157095,  2.06074792,  1.75534084, -0.24896415],\n",
              "       [ 0.58685709, -1.40185106,  0.79103195, -0.90938745,  1.40279431],\n",
              "       [ 0.2766908 ,  0.34115197, -0.88951443, -0.81581028, -0.07710171],\n",
              "       [ 0.69014399,  0.40171172,  0.51934651,  1.53273891, -0.10876015],\n",
              "       [-0.50347565,  0.09965137,  2.19045563, -0.99053633, -0.56629773],\n",
              "       [-1.76304016,  0.34361829, -0.71984421, -0.46063877,  1.05712223],\n",
              "       [-0.02090159,  0.61037027, -0.82899501, -0.56018104,  0.74729361],\n",
              "       [-0.25256815, -1.02438764, -0.92693047, -0.05952536, -3.24126734],\n",
              "       [-0.75913266, -0.52575502, -0.83972184, -0.59939265, -2.12389572],\n",
              "       [-1.19787789, -0.55364931, -0.79287283, -0.10703036, -1.03524232],\n",
              "       [-1.75873949,  1.05842449,  1.36863156, -0.96492346,  0.68605146],\n",
              "       [-2.6197451 ,  1.56464366,  0.36139561,  1.53803657, -0.03582604],\n",
              "       [-0.75635075,  0.20346364, -0.12791759, -0.95554044, -1.60644632],\n",
              "       [ 0.33231401,  1.27767682,  0.71161488, -1.12464209, -1.53411417],\n",
              "       [-0.98150865,  0.01023306,  1.44127329, -1.43586215,  1.16316375],\n",
              "       [ 0.62834551,  0.62411982, -1.21418861,  1.15811087,  0.79166269],\n",
              "       [ 1.30547881,  0.81350964, -0.2176812 ,  1.09877685,  0.82541635],\n",
              "       [-0.21344715, -0.71844422,  0.23204994, -1.44808434, -1.40746377],\n",
              "       [ 2.13303337, -1.2378155 ,  0.11351735,  0.66213067,  1.58601682],\n",
              "       [ 0.13074058, -0.44004449, -1.24778318,  1.6324113 , -1.43014138],\n",
              "       [ 2.72016917, -0.26465683,  0.82718325,  0.01300189,  1.45353408],\n",
              "       [-0.16128571, -0.80227727, -1.41537074, -0.42064532, -0.34271452],\n",
              "       [-0.53025762,  0.50404652, -0.0626791 ,  0.95514232, -0.98572605],\n",
              "       [-0.23415337,  1.52302986,  0.49671415, -0.1382643 ,  0.64768854],\n",
              "       [-0.11232805,  0.21397991,  1.96472513,  0.03526355, -0.69972551],\n",
              "       [ 0.88163976,  1.68714164, -1.42225371, -0.64657288, -1.081548  ],\n",
              "       [-1.37766937,  1.05380205,  0.35778736,  0.56078453,  1.08305124],\n",
              "       [-1.1429703 ,  0.05820872,  0.38531738, -0.88385744,  0.15372511],\n",
              "       [ 0.25988279,  0.18463386,  0.22745993,  1.30714275, -1.60748323],\n",
              "       [-1.51936997,  1.03246526, -1.26088395,  0.91786195,  2.1221562 ],\n",
              "       [-1.47852199, -0.3011037 ,  0.73846658,  0.17136828, -0.11564828],\n",
              "       [ 0.29307247,  0.2322537 ,  0.25049285,  0.34644821, -0.68002472],\n",
              "       [-0.57581824, -0.53050115, -0.2209696 ,  0.6141667 ,  0.75750771],\n",
              "       [-0.22346279,  0.48247242,  0.62566735, -0.85715756, -1.0708925 ],\n",
              "       [-0.54438272, -1.42474819,  1.46564877, -0.2257763 ,  0.0675282 ],\n",
              "       [-0.56372455,  0.41293145, -0.14705738, -0.8254972 , -0.32138584],\n",
              "       [-0.80829829,  2.18980293, -0.76734756,  0.87232064,  0.18334201],\n",
              "       [-0.31526924,  0.65139125,  0.57089051,  1.13556564,  0.95400176],\n",
              "       [ 0.62962884,  0.81286212, -0.6929096 ,  0.89959988,  0.30729952],\n",
              "       [ 0.51443883,  0.12029563,  0.62284993, -1.06762043, -0.14237949],\n",
              "       [-0.20219265,  0.54709738,  0.11732738,  1.2776649 , -0.59157139],\n",
              "       [ 0.81252582, -1.19620662, -0.47917424, -0.18565898, -1.10633497],\n",
              "       [ 0.97554513,  0.33126343,  0.93128012, -0.83921752, -0.30921238],\n",
              "       [ 0.67959775, -0.71530371,  1.0889506 ,  0.06428002, -1.07774478],\n",
              "       [-1.05921352, -0.51386692,  0.66967255,  0.36659825, -0.93987979],\n",
              "       [ 2.14394409, -0.65160035, -0.73036663,  0.21645859,  0.04557184],\n",
              "       [-0.19236096,  2.46324211, -1.91877122, -0.02651388,  0.06023021],\n",
              "       [-0.82723094,  0.32271856, -1.00252936, -0.01851314, -0.28865864],\n",
              "       [-0.29169375, -0.60063869,  0.11092259, -1.15099358,  0.37569802],\n",
              "       [-1.51484722, -0.84679372,  0.71400049,  0.47323762, -0.07282891],\n",
              "       [-0.77300978,  0.0976761 , -0.40122047,  0.22409248,  0.0125924 ],\n",
              "       [ 1.03099952,  0.61167629,  0.32408397, -0.38508228, -0.676922  ],\n",
              "       [-0.23458713,  0.00511346, -1.46351495,  0.29612028,  0.26105527],\n",
              "       [-0.47103831, -0.50694318, -0.8222204 ,  0.24368721,  0.24496657]])"
            ]
          },
          "metadata": {},
          "execution_count": 5
        }
      ]
    },
    {
      "cell_type": "code",
      "source": [
        "y"
      ],
      "metadata": {
        "colab": {
          "base_uri": "https://localhost:8080/"
        },
        "id": "KQ6Cj4VlfhLa",
        "outputId": "d9971694-a560-4acf-b911-c3fd9ce48d79"
      },
      "execution_count": 6,
      "outputs": [
        {
          "output_type": "execute_result",
          "data": {
            "text/plain": [
              "array([-5.86179869e+01, -4.74758431e+01, -2.58696834e+02,  1.16096971e+02,\n",
              "       -1.23443012e+02, -1.58674335e+02,  1.07132320e+02,  4.26019535e+01,\n",
              "       -1.38840464e+02, -8.36328139e+01,  3.15444796e+00, -3.41596897e+02,\n",
              "       -6.44731560e+01, -1.22405390e+02, -2.57592875e-01,  1.18795443e+02,\n",
              "       -1.74752945e+01, -2.56365517e+02,  4.93233685e+01, -3.91117289e+01,\n",
              "        9.23798975e+01,  3.40703659e+00, -2.71794712e+01,  1.54443730e+02,\n",
              "        1.57625626e+02,  2.73749969e+02,  4.41610481e+00,  1.60110657e+02,\n",
              "       -2.01039167e+02,  3.06915661e+02, -1.20149752e+02,  5.10980094e+01,\n",
              "       -1.49443226e+01,  3.23458961e+01,  1.65142875e+02, -8.00730904e+01,\n",
              "        1.33169324e+02, -4.07547895e+01,  1.26831555e+02,  6.96494630e+01,\n",
              "       -1.43509295e+02,  1.05848339e+01,  1.10324407e+01,  8.86568949e+01,\n",
              "        4.00437343e+02,  1.75667545e+02,  3.58283592e+02, -5.33233622e+01,\n",
              "       -5.64976754e+01,  1.97709829e+02,  4.13724813e+01, -1.07361887e+02,\n",
              "       -2.11585995e-01, -2.95365908e+02, -2.62810031e+02, -2.21814136e+02,\n",
              "        5.48147809e+01,  1.04788121e+02, -1.44367543e+02,  7.28311157e+01,\n",
              "       -5.34602172e+00,  1.14657185e+02,  2.36708373e+02, -2.00766935e+02,\n",
              "        1.06496101e+02, -7.41590193e+01,  2.44195923e+02, -2.15617857e+02,\n",
              "        3.42577797e+01,  1.82959147e+02,  1.17878241e+02,  5.35708474e+01,\n",
              "        1.13465666e+02, -8.28104959e+01,  6.44921166e+01,  5.57363370e+01,\n",
              "       -6.84102756e+01,  5.12654517e+01, -4.00119151e+01, -1.31880342e+01,\n",
              "       -8.97262092e+01, -6.14573663e+01,  1.74386277e+02,  1.79054396e+02,\n",
              "        1.36812853e+02,  1.73362178e+01,  1.02463776e+02, -1.49493443e+02,\n",
              "        9.29321227e+01,  6.31993452e+00, -8.33179787e+01,  3.28835555e+01,\n",
              "        1.07479973e+02, -9.42700984e+01, -1.22490498e+02, -1.04006385e+02,\n",
              "       -4.95805470e+01,  9.80369173e+01, -8.04195934e+01, -1.09260527e+02])"
            ]
          },
          "metadata": {},
          "execution_count": 6
        }
      ]
    },
    {
      "cell_type": "markdown",
      "source": [
        "### Train Test Split"
      ],
      "metadata": {
        "id": "kYhSRhtjiaW7"
      }
    },
    {
      "cell_type": "code",
      "source": [
        "from sklearn.model_selection import train_test_split"
      ],
      "metadata": {
        "id": "OXf4Iez_fhIb"
      },
      "execution_count": 7,
      "outputs": []
    },
    {
      "cell_type": "code",
      "source": [
        "x_train, x_test, y_train, y_test = train_test_split(x, y, test_size=0.2, random_state=42)"
      ],
      "metadata": {
        "id": "R_C_cCw4fhFT"
      },
      "execution_count": 13,
      "outputs": []
    },
    {
      "cell_type": "markdown",
      "source": [
        "### Standardizing the data"
      ],
      "metadata": {
        "id": "iEs5426Dicu6"
      }
    },
    {
      "cell_type": "code",
      "source": [
        "from sklearn.preprocessing import StandardScaler"
      ],
      "metadata": {
        "id": "WetEIWObfhCT"
      },
      "execution_count": 14,
      "outputs": []
    },
    {
      "cell_type": "code",
      "source": [
        "ss = StandardScaler()"
      ],
      "metadata": {
        "id": "CyH7lTc3fg-j"
      },
      "execution_count": 15,
      "outputs": []
    },
    {
      "cell_type": "code",
      "source": [
        "x_train = ss.fit_transform(x_train)"
      ],
      "metadata": {
        "id": "vRrlwk92fg7V"
      },
      "execution_count": 16,
      "outputs": []
    },
    {
      "cell_type": "code",
      "source": [
        "x_test = ss.fit_transform(x_test)"
      ],
      "metadata": {
        "id": "NeMSfU-sgfkB"
      },
      "execution_count": 17,
      "outputs": []
    },
    {
      "cell_type": "markdown",
      "source": [
        "### Ridge Regression"
      ],
      "metadata": {
        "id": "ILFG8OsbimkC"
      }
    },
    {
      "cell_type": "code",
      "source": [
        "from sklearn.linear_model import Ridge"
      ],
      "metadata": {
        "id": "qRs33k4jgjPE"
      },
      "execution_count": 18,
      "outputs": []
    },
    {
      "cell_type": "code",
      "source": [
        "ridge = Ridge()"
      ],
      "metadata": {
        "id": "uqM0VB3Rg6nN"
      },
      "execution_count": 20,
      "outputs": []
    },
    {
      "cell_type": "code",
      "source": [
        "ridge.fit(x_train, y_train)"
      ],
      "metadata": {
        "colab": {
          "base_uri": "https://localhost:8080/",
          "height": 80
        },
        "id": "05Hb5Phkg6k0",
        "outputId": "80ab7f4f-0876-4516-fc95-d934df3d531b"
      },
      "execution_count": 21,
      "outputs": [
        {
          "output_type": "execute_result",
          "data": {
            "text/plain": [
              "Ridge()"
            ],
            "text/html": [
              "<style>#sk-container-id-1 {\n",
              "  /* Definition of color scheme common for light and dark mode */\n",
              "  --sklearn-color-text: black;\n",
              "  --sklearn-color-line: gray;\n",
              "  /* Definition of color scheme for unfitted estimators */\n",
              "  --sklearn-color-unfitted-level-0: #fff5e6;\n",
              "  --sklearn-color-unfitted-level-1: #f6e4d2;\n",
              "  --sklearn-color-unfitted-level-2: #ffe0b3;\n",
              "  --sklearn-color-unfitted-level-3: chocolate;\n",
              "  /* Definition of color scheme for fitted estimators */\n",
              "  --sklearn-color-fitted-level-0: #f0f8ff;\n",
              "  --sklearn-color-fitted-level-1: #d4ebff;\n",
              "  --sklearn-color-fitted-level-2: #b3dbfd;\n",
              "  --sklearn-color-fitted-level-3: cornflowerblue;\n",
              "\n",
              "  /* Specific color for light theme */\n",
              "  --sklearn-color-text-on-default-background: var(--sg-text-color, var(--theme-code-foreground, var(--jp-content-font-color1, black)));\n",
              "  --sklearn-color-background: var(--sg-background-color, var(--theme-background, var(--jp-layout-color0, white)));\n",
              "  --sklearn-color-border-box: var(--sg-text-color, var(--theme-code-foreground, var(--jp-content-font-color1, black)));\n",
              "  --sklearn-color-icon: #696969;\n",
              "\n",
              "  @media (prefers-color-scheme: dark) {\n",
              "    /* Redefinition of color scheme for dark theme */\n",
              "    --sklearn-color-text-on-default-background: var(--sg-text-color, var(--theme-code-foreground, var(--jp-content-font-color1, white)));\n",
              "    --sklearn-color-background: var(--sg-background-color, var(--theme-background, var(--jp-layout-color0, #111)));\n",
              "    --sklearn-color-border-box: var(--sg-text-color, var(--theme-code-foreground, var(--jp-content-font-color1, white)));\n",
              "    --sklearn-color-icon: #878787;\n",
              "  }\n",
              "}\n",
              "\n",
              "#sk-container-id-1 {\n",
              "  color: var(--sklearn-color-text);\n",
              "}\n",
              "\n",
              "#sk-container-id-1 pre {\n",
              "  padding: 0;\n",
              "}\n",
              "\n",
              "#sk-container-id-1 input.sk-hidden--visually {\n",
              "  border: 0;\n",
              "  clip: rect(1px 1px 1px 1px);\n",
              "  clip: rect(1px, 1px, 1px, 1px);\n",
              "  height: 1px;\n",
              "  margin: -1px;\n",
              "  overflow: hidden;\n",
              "  padding: 0;\n",
              "  position: absolute;\n",
              "  width: 1px;\n",
              "}\n",
              "\n",
              "#sk-container-id-1 div.sk-dashed-wrapped {\n",
              "  border: 1px dashed var(--sklearn-color-line);\n",
              "  margin: 0 0.4em 0.5em 0.4em;\n",
              "  box-sizing: border-box;\n",
              "  padding-bottom: 0.4em;\n",
              "  background-color: var(--sklearn-color-background);\n",
              "}\n",
              "\n",
              "#sk-container-id-1 div.sk-container {\n",
              "  /* jupyter's `normalize.less` sets `[hidden] { display: none; }`\n",
              "     but bootstrap.min.css set `[hidden] { display: none !important; }`\n",
              "     so we also need the `!important` here to be able to override the\n",
              "     default hidden behavior on the sphinx rendered scikit-learn.org.\n",
              "     See: https://github.com/scikit-learn/scikit-learn/issues/21755 */\n",
              "  display: inline-block !important;\n",
              "  position: relative;\n",
              "}\n",
              "\n",
              "#sk-container-id-1 div.sk-text-repr-fallback {\n",
              "  display: none;\n",
              "}\n",
              "\n",
              "div.sk-parallel-item,\n",
              "div.sk-serial,\n",
              "div.sk-item {\n",
              "  /* draw centered vertical line to link estimators */\n",
              "  background-image: linear-gradient(var(--sklearn-color-text-on-default-background), var(--sklearn-color-text-on-default-background));\n",
              "  background-size: 2px 100%;\n",
              "  background-repeat: no-repeat;\n",
              "  background-position: center center;\n",
              "}\n",
              "\n",
              "/* Parallel-specific style estimator block */\n",
              "\n",
              "#sk-container-id-1 div.sk-parallel-item::after {\n",
              "  content: \"\";\n",
              "  width: 100%;\n",
              "  border-bottom: 2px solid var(--sklearn-color-text-on-default-background);\n",
              "  flex-grow: 1;\n",
              "}\n",
              "\n",
              "#sk-container-id-1 div.sk-parallel {\n",
              "  display: flex;\n",
              "  align-items: stretch;\n",
              "  justify-content: center;\n",
              "  background-color: var(--sklearn-color-background);\n",
              "  position: relative;\n",
              "}\n",
              "\n",
              "#sk-container-id-1 div.sk-parallel-item {\n",
              "  display: flex;\n",
              "  flex-direction: column;\n",
              "}\n",
              "\n",
              "#sk-container-id-1 div.sk-parallel-item:first-child::after {\n",
              "  align-self: flex-end;\n",
              "  width: 50%;\n",
              "}\n",
              "\n",
              "#sk-container-id-1 div.sk-parallel-item:last-child::after {\n",
              "  align-self: flex-start;\n",
              "  width: 50%;\n",
              "}\n",
              "\n",
              "#sk-container-id-1 div.sk-parallel-item:only-child::after {\n",
              "  width: 0;\n",
              "}\n",
              "\n",
              "/* Serial-specific style estimator block */\n",
              "\n",
              "#sk-container-id-1 div.sk-serial {\n",
              "  display: flex;\n",
              "  flex-direction: column;\n",
              "  align-items: center;\n",
              "  background-color: var(--sklearn-color-background);\n",
              "  padding-right: 1em;\n",
              "  padding-left: 1em;\n",
              "}\n",
              "\n",
              "\n",
              "/* Toggleable style: style used for estimator/Pipeline/ColumnTransformer box that is\n",
              "clickable and can be expanded/collapsed.\n",
              "- Pipeline and ColumnTransformer use this feature and define the default style\n",
              "- Estimators will overwrite some part of the style using the `sk-estimator` class\n",
              "*/\n",
              "\n",
              "/* Pipeline and ColumnTransformer style (default) */\n",
              "\n",
              "#sk-container-id-1 div.sk-toggleable {\n",
              "  /* Default theme specific background. It is overwritten whether we have a\n",
              "  specific estimator or a Pipeline/ColumnTransformer */\n",
              "  background-color: var(--sklearn-color-background);\n",
              "}\n",
              "\n",
              "/* Toggleable label */\n",
              "#sk-container-id-1 label.sk-toggleable__label {\n",
              "  cursor: pointer;\n",
              "  display: block;\n",
              "  width: 100%;\n",
              "  margin-bottom: 0;\n",
              "  padding: 0.5em;\n",
              "  box-sizing: border-box;\n",
              "  text-align: center;\n",
              "}\n",
              "\n",
              "#sk-container-id-1 label.sk-toggleable__label-arrow:before {\n",
              "  /* Arrow on the left of the label */\n",
              "  content: \"▸\";\n",
              "  float: left;\n",
              "  margin-right: 0.25em;\n",
              "  color: var(--sklearn-color-icon);\n",
              "}\n",
              "\n",
              "#sk-container-id-1 label.sk-toggleable__label-arrow:hover:before {\n",
              "  color: var(--sklearn-color-text);\n",
              "}\n",
              "\n",
              "/* Toggleable content - dropdown */\n",
              "\n",
              "#sk-container-id-1 div.sk-toggleable__content {\n",
              "  max-height: 0;\n",
              "  max-width: 0;\n",
              "  overflow: hidden;\n",
              "  text-align: left;\n",
              "  /* unfitted */\n",
              "  background-color: var(--sklearn-color-unfitted-level-0);\n",
              "}\n",
              "\n",
              "#sk-container-id-1 div.sk-toggleable__content.fitted {\n",
              "  /* fitted */\n",
              "  background-color: var(--sklearn-color-fitted-level-0);\n",
              "}\n",
              "\n",
              "#sk-container-id-1 div.sk-toggleable__content pre {\n",
              "  margin: 0.2em;\n",
              "  border-radius: 0.25em;\n",
              "  color: var(--sklearn-color-text);\n",
              "  /* unfitted */\n",
              "  background-color: var(--sklearn-color-unfitted-level-0);\n",
              "}\n",
              "\n",
              "#sk-container-id-1 div.sk-toggleable__content.fitted pre {\n",
              "  /* unfitted */\n",
              "  background-color: var(--sklearn-color-fitted-level-0);\n",
              "}\n",
              "\n",
              "#sk-container-id-1 input.sk-toggleable__control:checked~div.sk-toggleable__content {\n",
              "  /* Expand drop-down */\n",
              "  max-height: 200px;\n",
              "  max-width: 100%;\n",
              "  overflow: auto;\n",
              "}\n",
              "\n",
              "#sk-container-id-1 input.sk-toggleable__control:checked~label.sk-toggleable__label-arrow:before {\n",
              "  content: \"▾\";\n",
              "}\n",
              "\n",
              "/* Pipeline/ColumnTransformer-specific style */\n",
              "\n",
              "#sk-container-id-1 div.sk-label input.sk-toggleable__control:checked~label.sk-toggleable__label {\n",
              "  color: var(--sklearn-color-text);\n",
              "  background-color: var(--sklearn-color-unfitted-level-2);\n",
              "}\n",
              "\n",
              "#sk-container-id-1 div.sk-label.fitted input.sk-toggleable__control:checked~label.sk-toggleable__label {\n",
              "  background-color: var(--sklearn-color-fitted-level-2);\n",
              "}\n",
              "\n",
              "/* Estimator-specific style */\n",
              "\n",
              "/* Colorize estimator box */\n",
              "#sk-container-id-1 div.sk-estimator input.sk-toggleable__control:checked~label.sk-toggleable__label {\n",
              "  /* unfitted */\n",
              "  background-color: var(--sklearn-color-unfitted-level-2);\n",
              "}\n",
              "\n",
              "#sk-container-id-1 div.sk-estimator.fitted input.sk-toggleable__control:checked~label.sk-toggleable__label {\n",
              "  /* fitted */\n",
              "  background-color: var(--sklearn-color-fitted-level-2);\n",
              "}\n",
              "\n",
              "#sk-container-id-1 div.sk-label label.sk-toggleable__label,\n",
              "#sk-container-id-1 div.sk-label label {\n",
              "  /* The background is the default theme color */\n",
              "  color: var(--sklearn-color-text-on-default-background);\n",
              "}\n",
              "\n",
              "/* On hover, darken the color of the background */\n",
              "#sk-container-id-1 div.sk-label:hover label.sk-toggleable__label {\n",
              "  color: var(--sklearn-color-text);\n",
              "  background-color: var(--sklearn-color-unfitted-level-2);\n",
              "}\n",
              "\n",
              "/* Label box, darken color on hover, fitted */\n",
              "#sk-container-id-1 div.sk-label.fitted:hover label.sk-toggleable__label.fitted {\n",
              "  color: var(--sklearn-color-text);\n",
              "  background-color: var(--sklearn-color-fitted-level-2);\n",
              "}\n",
              "\n",
              "/* Estimator label */\n",
              "\n",
              "#sk-container-id-1 div.sk-label label {\n",
              "  font-family: monospace;\n",
              "  font-weight: bold;\n",
              "  display: inline-block;\n",
              "  line-height: 1.2em;\n",
              "}\n",
              "\n",
              "#sk-container-id-1 div.sk-label-container {\n",
              "  text-align: center;\n",
              "}\n",
              "\n",
              "/* Estimator-specific */\n",
              "#sk-container-id-1 div.sk-estimator {\n",
              "  font-family: monospace;\n",
              "  border: 1px dotted var(--sklearn-color-border-box);\n",
              "  border-radius: 0.25em;\n",
              "  box-sizing: border-box;\n",
              "  margin-bottom: 0.5em;\n",
              "  /* unfitted */\n",
              "  background-color: var(--sklearn-color-unfitted-level-0);\n",
              "}\n",
              "\n",
              "#sk-container-id-1 div.sk-estimator.fitted {\n",
              "  /* fitted */\n",
              "  background-color: var(--sklearn-color-fitted-level-0);\n",
              "}\n",
              "\n",
              "/* on hover */\n",
              "#sk-container-id-1 div.sk-estimator:hover {\n",
              "  /* unfitted */\n",
              "  background-color: var(--sklearn-color-unfitted-level-2);\n",
              "}\n",
              "\n",
              "#sk-container-id-1 div.sk-estimator.fitted:hover {\n",
              "  /* fitted */\n",
              "  background-color: var(--sklearn-color-fitted-level-2);\n",
              "}\n",
              "\n",
              "/* Specification for estimator info (e.g. \"i\" and \"?\") */\n",
              "\n",
              "/* Common style for \"i\" and \"?\" */\n",
              "\n",
              ".sk-estimator-doc-link,\n",
              "a:link.sk-estimator-doc-link,\n",
              "a:visited.sk-estimator-doc-link {\n",
              "  float: right;\n",
              "  font-size: smaller;\n",
              "  line-height: 1em;\n",
              "  font-family: monospace;\n",
              "  background-color: var(--sklearn-color-background);\n",
              "  border-radius: 1em;\n",
              "  height: 1em;\n",
              "  width: 1em;\n",
              "  text-decoration: none !important;\n",
              "  margin-left: 1ex;\n",
              "  /* unfitted */\n",
              "  border: var(--sklearn-color-unfitted-level-1) 1pt solid;\n",
              "  color: var(--sklearn-color-unfitted-level-1);\n",
              "}\n",
              "\n",
              ".sk-estimator-doc-link.fitted,\n",
              "a:link.sk-estimator-doc-link.fitted,\n",
              "a:visited.sk-estimator-doc-link.fitted {\n",
              "  /* fitted */\n",
              "  border: var(--sklearn-color-fitted-level-1) 1pt solid;\n",
              "  color: var(--sklearn-color-fitted-level-1);\n",
              "}\n",
              "\n",
              "/* On hover */\n",
              "div.sk-estimator:hover .sk-estimator-doc-link:hover,\n",
              ".sk-estimator-doc-link:hover,\n",
              "div.sk-label-container:hover .sk-estimator-doc-link:hover,\n",
              ".sk-estimator-doc-link:hover {\n",
              "  /* unfitted */\n",
              "  background-color: var(--sklearn-color-unfitted-level-3);\n",
              "  color: var(--sklearn-color-background);\n",
              "  text-decoration: none;\n",
              "}\n",
              "\n",
              "div.sk-estimator.fitted:hover .sk-estimator-doc-link.fitted:hover,\n",
              ".sk-estimator-doc-link.fitted:hover,\n",
              "div.sk-label-container:hover .sk-estimator-doc-link.fitted:hover,\n",
              ".sk-estimator-doc-link.fitted:hover {\n",
              "  /* fitted */\n",
              "  background-color: var(--sklearn-color-fitted-level-3);\n",
              "  color: var(--sklearn-color-background);\n",
              "  text-decoration: none;\n",
              "}\n",
              "\n",
              "/* Span, style for the box shown on hovering the info icon */\n",
              ".sk-estimator-doc-link span {\n",
              "  display: none;\n",
              "  z-index: 9999;\n",
              "  position: relative;\n",
              "  font-weight: normal;\n",
              "  right: .2ex;\n",
              "  padding: .5ex;\n",
              "  margin: .5ex;\n",
              "  width: min-content;\n",
              "  min-width: 20ex;\n",
              "  max-width: 50ex;\n",
              "  color: var(--sklearn-color-text);\n",
              "  box-shadow: 2pt 2pt 4pt #999;\n",
              "  /* unfitted */\n",
              "  background: var(--sklearn-color-unfitted-level-0);\n",
              "  border: .5pt solid var(--sklearn-color-unfitted-level-3);\n",
              "}\n",
              "\n",
              ".sk-estimator-doc-link.fitted span {\n",
              "  /* fitted */\n",
              "  background: var(--sklearn-color-fitted-level-0);\n",
              "  border: var(--sklearn-color-fitted-level-3);\n",
              "}\n",
              "\n",
              ".sk-estimator-doc-link:hover span {\n",
              "  display: block;\n",
              "}\n",
              "\n",
              "/* \"?\"-specific style due to the `<a>` HTML tag */\n",
              "\n",
              "#sk-container-id-1 a.estimator_doc_link {\n",
              "  float: right;\n",
              "  font-size: 1rem;\n",
              "  line-height: 1em;\n",
              "  font-family: monospace;\n",
              "  background-color: var(--sklearn-color-background);\n",
              "  border-radius: 1rem;\n",
              "  height: 1rem;\n",
              "  width: 1rem;\n",
              "  text-decoration: none;\n",
              "  /* unfitted */\n",
              "  color: var(--sklearn-color-unfitted-level-1);\n",
              "  border: var(--sklearn-color-unfitted-level-1) 1pt solid;\n",
              "}\n",
              "\n",
              "#sk-container-id-1 a.estimator_doc_link.fitted {\n",
              "  /* fitted */\n",
              "  border: var(--sklearn-color-fitted-level-1) 1pt solid;\n",
              "  color: var(--sklearn-color-fitted-level-1);\n",
              "}\n",
              "\n",
              "/* On hover */\n",
              "#sk-container-id-1 a.estimator_doc_link:hover {\n",
              "  /* unfitted */\n",
              "  background-color: var(--sklearn-color-unfitted-level-3);\n",
              "  color: var(--sklearn-color-background);\n",
              "  text-decoration: none;\n",
              "}\n",
              "\n",
              "#sk-container-id-1 a.estimator_doc_link.fitted:hover {\n",
              "  /* fitted */\n",
              "  background-color: var(--sklearn-color-fitted-level-3);\n",
              "}\n",
              "</style><div id=\"sk-container-id-1\" class=\"sk-top-container\"><div class=\"sk-text-repr-fallback\"><pre>Ridge()</pre><b>In a Jupyter environment, please rerun this cell to show the HTML representation or trust the notebook. <br />On GitHub, the HTML representation is unable to render, please try loading this page with nbviewer.org.</b></div><div class=\"sk-container\" hidden><div class=\"sk-item\"><div class=\"sk-estimator fitted sk-toggleable\"><input class=\"sk-toggleable__control sk-hidden--visually\" id=\"sk-estimator-id-1\" type=\"checkbox\" checked><label for=\"sk-estimator-id-1\" class=\"sk-toggleable__label fitted sk-toggleable__label-arrow fitted\">&nbsp;&nbsp;Ridge<a class=\"sk-estimator-doc-link fitted\" rel=\"noreferrer\" target=\"_blank\" href=\"https://scikit-learn.org/1.5/modules/generated/sklearn.linear_model.Ridge.html\">?<span>Documentation for Ridge</span></a><span class=\"sk-estimator-doc-link fitted\">i<span>Fitted</span></span></label><div class=\"sk-toggleable__content fitted\"><pre>Ridge()</pre></div> </div></div></div></div>"
            ]
          },
          "metadata": {},
          "execution_count": 21
        }
      ]
    },
    {
      "cell_type": "code",
      "source": [
        "y_pred = ridge.predict(x_test)"
      ],
      "metadata": {
        "id": "lbcHlyQ6g6hO"
      },
      "execution_count": 22,
      "outputs": []
    },
    {
      "cell_type": "markdown",
      "source": [
        "### Evaluate the model"
      ],
      "metadata": {
        "id": "ybN6cn7LipJ5"
      }
    },
    {
      "cell_type": "code",
      "source": [
        "from sklearn.metrics import r2_score, mean_absolute_error, mean_squared_error"
      ],
      "metadata": {
        "id": "8zw5SFyng6dm"
      },
      "execution_count": 24,
      "outputs": []
    },
    {
      "cell_type": "code",
      "source": [
        "mean_absolute_error(y_test, y_pred)"
      ],
      "metadata": {
        "colab": {
          "base_uri": "https://localhost:8080/"
        },
        "id": "hzmXFeRZg6aT",
        "outputId": "782d239c-65e6-42c2-ad3c-fda8c8519e75"
      },
      "execution_count": 26,
      "outputs": [
        {
          "output_type": "execute_result",
          "data": {
            "text/plain": [
              "13.724016848058307"
            ]
          },
          "metadata": {},
          "execution_count": 26
        }
      ]
    },
    {
      "cell_type": "code",
      "source": [
        "mean_squared_error(y_test, y_pred)"
      ],
      "metadata": {
        "colab": {
          "base_uri": "https://localhost:8080/"
        },
        "id": "sw0Cq5XWhugM",
        "outputId": "68bb67f8-f1bc-4472-dd57-19de347f14c5"
      },
      "execution_count": 28,
      "outputs": [
        {
          "output_type": "execute_result",
          "data": {
            "text/plain": [
              "329.1617478151823"
            ]
          },
          "metadata": {},
          "execution_count": 28
        }
      ]
    },
    {
      "cell_type": "code",
      "source": [
        "r2_score(y_test, y_pred)"
      ],
      "metadata": {
        "colab": {
          "base_uri": "https://localhost:8080/"
        },
        "id": "tG4mEwUXg6W7",
        "outputId": "1f863a99-0658-4535-b524-bdcf9bfec2be"
      },
      "execution_count": 27,
      "outputs": [
        {
          "output_type": "execute_result",
          "data": {
            "text/plain": [
              "0.9836174304751931"
            ]
          },
          "metadata": {},
          "execution_count": 27
        }
      ]
    },
    {
      "cell_type": "markdown",
      "source": [
        "### Slope and y-intercept"
      ],
      "metadata": {
        "id": "oCdU7sV6ir9B"
      }
    },
    {
      "cell_type": "code",
      "source": [
        "ridge.coef_"
      ],
      "metadata": {
        "colab": {
          "base_uri": "https://localhost:8080/"
        },
        "id": "3GEGEcVYiCoD",
        "outputId": "1b994d33-de44-461c-f689-99895d99cc77"
      },
      "execution_count": 29,
      "outputs": [
        {
          "output_type": "execute_result",
          "data": {
            "text/plain": [
              "array([65.00228071, 89.92376827, 52.86928441, 55.84832085, 33.69524849])"
            ]
          },
          "metadata": {},
          "execution_count": 29
        }
      ]
    },
    {
      "cell_type": "code",
      "source": [
        "ridge.intercept_"
      ],
      "metadata": {
        "colab": {
          "base_uri": "https://localhost:8080/"
        },
        "id": "h9wXlX0UiCdG",
        "outputId": "2108a1f9-7862-433f-aedc-8d79105ef511"
      },
      "execution_count": 31,
      "outputs": [
        {
          "output_type": "execute_result",
          "data": {
            "text/plain": [
              "9.584706014388201"
            ]
          },
          "metadata": {},
          "execution_count": 31
        }
      ]
    }
  ]
}